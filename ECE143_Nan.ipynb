{
 "cells": [
  {
   "cell_type": "code",
   "execution_count": 1,
   "metadata": {},
   "outputs": [],
   "source": [
    "def cleardict(v,k):\n",
    "    v2={}\n",
    "    for i in k:\n",
    "        v2[i]='Nan'\n",
    "    for i in v.keys():\n",
    "        if '+' in i:\n",
    "            w,n=addwrong(i)\n",
    "            v2[w[0]]=v[i]\n",
    "            for i in range(len(n)):\n",
    "                v2[w[i+1]]=n[i]\n",
    "        elif 'GK Handling'in i:\n",
    "            n=Dkwrong(i)\n",
    "            v2['GK Handling']=v[i]\n",
    "            v2['GK Kicking']=n[0]\n",
    "            v2['GK Positioning']=n[1]\n",
    "        else:\n",
    "            v2[i]=v[i]\n",
    "    return v2"
   ]
  },
  {
   "cell_type": "code",
   "execution_count": null,
   "metadata": {},
   "outputs": [],
   "source": []
  }
 ],
 "metadata": {
  "kernelspec": {
   "display_name": "Python 3",
   "language": "python",
   "name": "python3"
  },
  "language_info": {
   "codemirror_mode": {
    "name": "ipython",
    "version": 3
   },
   "file_extension": ".py",
   "mimetype": "text/x-python",
   "name": "python",
   "nbconvert_exporter": "python",
   "pygments_lexer": "ipython3",
   "version": "3.7.1"
  }
 },
 "nbformat": 4,
 "nbformat_minor": 2
}
