{
 "cells": [
  {
   "cell_type": "markdown",
   "metadata": {},
   "source": [
    "# GOAL OF ML\n",
    "#### 1. The main aim of the ML application is to predict the ratings\n",
    "#### 2. The purpose of this is not to create a perfect ML model, but to generate a model based on the features derived from the visualization\n",
    "#### 3. We can see the by dropping the features which were deemed unfit based on the regularizer we are able to generate a pretty good MSE which shows the importance of the analysis"
   ]
  },
  {
   "cell_type": "markdown",
   "metadata": {},
   "source": [
    "## Modules Loader"
   ]
  },
  {
   "cell_type": "code",
   "execution_count": 9,
   "metadata": {},
   "outputs": [],
   "source": [
    "#from data_loader_module import load_data\n",
    "from xgboost import XGBClassifier,XGBRegressor\n",
    "from sklearn.model_selection import train_test_split\n",
    "from sklearn.linear_model import LinearRegression\n",
    "from sklearn.metrics import mean_squared_error as mse\n",
    "import numpy as np\n",
    "import pandas as pd\n",
    "import matplotlib.pyplot as plt   # for plot legend in plots\n",
    "from matplotlib.pylab import subplots\n",
    "from matplotlib import figure\n",
    "import pylab as plot\n",
    "\n",
    "#alldata=load_data()\n",
    "alldata = pd.read_csv('player_attributes.csv')\n",
    "\n",
    "\n",
    "\n",
    "\n",
    "        "
   ]
  },
  {
   "cell_type": "markdown",
   "metadata": {},
   "source": [
    "## Data Cleaning and Processing (Removing features)"
   ]
  },
  {
   "cell_type": "code",
   "execution_count": 10,
   "metadata": {},
   "outputs": [],
   "source": [
    "alldata=alldata.drop(columns=['Unnamed: 0','Player Name','Heading Accuracy','Acceleration','Strength'])\n",
    "alldata=alldata.drop(columns=['Value','Wage','Age','Height','Weight'])\n",
    "alldata['Player Category']=alldata['Player Category'].apply(lambda x: 0 if x =='Striker' else(1 if x=='Midfielder' else (2 if x=='Defender' else 3)))"
   ]
  },
  {
   "cell_type": "code",
   "execution_count": 11,
   "metadata": {},
   "outputs": [],
   "source": [
    "X=alldata[alldata.columns.difference(['Overall Rating'])]\n",
    "y=alldata['Overall Rating']\n",
    "X_train, X_test, y_train, y_test = train_test_split(X, y, test_size=0.33, random_state=42)"
   ]
  },
  {
   "cell_type": "markdown",
   "metadata": {},
   "source": [
    "## Model\n",
    "### Baseline"
   ]
  },
  {
   "cell_type": "code",
   "execution_count": 15,
   "metadata": {},
   "outputs": [
    {
     "name": "stdout",
     "output_type": "stream",
     "text": [
      "median baseline 1: 21.39820895522388\n",
      "mean baseline 2: 21.098788141343288\n"
     ]
    }
   ],
   "source": [
    "median=np.array([70.0]*len(X_train))\n",
    "mean=np.array([70.6071]*len(X_train))\n",
    "print(\"median baseline 1:\",mse(median,y_train))\n",
    "print(\"mean baseline 2:\",mse(mean,y_train))"
   ]
  },
  {
   "cell_type": "markdown",
   "metadata": {},
   "source": [
    "# LINEAR REGRESSION"
   ]
  },
  {
   "cell_type": "code",
   "execution_count": 21,
   "metadata": {},
   "outputs": [
    {
     "name": "stdout",
     "output_type": "stream",
     "text": [
      "Linear Regression train: 5.363438674328563\n",
      "Linear Regression test: 5.336164080346364\n"
     ]
    }
   ],
   "source": [
    "model=LinearRegression()\n",
    "model.fit(X_train,y_train)\n",
    "print(\"Linear Regression train:\",mse(model.predict(X_train),y_train))\n",
    "print(\"Linear Regression test:\",mse(model.predict(X_test),y_test))"
   ]
  },
  {
   "cell_type": "markdown",
   "metadata": {},
   "source": [
    "# XGBOOST"
   ]
  },
  {
   "cell_type": "code",
   "execution_count": 23,
   "metadata": {},
   "outputs": [
    {
     "name": "stdout",
     "output_type": "stream",
     "text": [
      "XGB Regression train: 1.367438003542814\n",
      "XGB Regression test: 1.5831558186919552\n"
     ]
    }
   ],
   "source": [
    "model=XGBRegressor()\n",
    "model.fit(X_train,y_train)\n",
    "print(\"XGB Regression train:\",mse(model.predict(X_train),y_train))\n",
    "print(\"XGB Regression test:\",mse(model.predict(X_test),y_test))"
   ]
  }
 ],
 "metadata": {
  "kernelspec": {
   "display_name": "Python 3",
   "language": "python",
   "name": "python3"
  },
  "language_info": {
   "codemirror_mode": {
    "name": "ipython",
    "version": 3
   },
   "file_extension": ".py",
   "mimetype": "text/x-python",
   "name": "python",
   "nbconvert_exporter": "python",
   "pygments_lexer": "ipython3",
   "version": "3.6.6"
  }
 },
 "nbformat": 4,
 "nbformat_minor": 2
}
