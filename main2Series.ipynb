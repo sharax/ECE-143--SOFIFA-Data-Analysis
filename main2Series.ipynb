{
 "cells": [
  {
   "cell_type": "code",
   "execution_count": 86,
   "metadata": {},
   "outputs": [],
   "source": [
    "import pandas as pd\n",
    "import re"
   ]
  },
  {
   "cell_type": "code",
   "execution_count": 90,
   "metadata": {},
   "outputs": [],
   "source": [
    "k=['Crossing', 'Finishing', 'Heading Accuracy', 'Short Passing', 'Volleys', 'Dribbling', 'Curve', 'FK Accuracy', 'Long Passing', 'Ball Control', 'Acceleration', 'Sprint Speed', 'Agility', 'Reactions', 'Balance', 'Shot Power', 'Jumping', 'Stamina', 'Strength', 'Long Shots', 'Aggression', 'Interceptions', 'Positioning', 'Vision', 'Penalties', 'Composure', 'Marking', 'Standing Tackle', 'Sliding Tackle', 'GK Diving', 'GK Handling', 'GK Kicking', 'GK Positioning', 'GK Reflexes']"
   ]
  },
  {
   "cell_type": "code",
   "execution_count": 92,
   "metadata": {},
   "outputs": [],
   "source": [
    "def addwrong(a):\n",
    "    b=a.replace('+',' ').replace('-',' ').split()\n",
    "    count=[]\n",
    "    for i in range(len(a)):\n",
    "        if a[i]=='+':\n",
    "            count+=[1]\n",
    "        elif a[i]=='-':\n",
    "            count+=[-1]\n",
    "    w=[b[0]]\n",
    "    n=[]\n",
    "    f=0\n",
    "    c=0\n",
    "    for i in range(1,len(b)):\n",
    "        if f==0:\n",
    "            if b[i].isdigit():\n",
    "                n+=[int(b[i])]\n",
    "                f=1\n",
    "            else:\n",
    "                w[-1]=w[-1]+' '+b[i]\n",
    "        else:\n",
    "            if b[i].isdigit():\n",
    "                n[-1]+=int(b[i])*count[c]\n",
    "                c+=1\n",
    "            else:\n",
    "                w+=[b[i]]\n",
    "                f=0\n",
    "    return w,n\n",
    "def Dkwrong(a):\n",
    "    b=re.sub(\"\\D\", ' ', a).split()\n",
    "    return [int(i) for i in b]"
   ]
  },
  {
   "cell_type": "code",
   "execution_count": 93,
   "metadata": {},
   "outputs": [],
   "source": [
    "def cleardict(v,k):\n",
    "    v2={}\n",
    "    for i in k:\n",
    "        v2[i]='Non'\n",
    "    for i in v.keys():\n",
    "        if '+' in i:\n",
    "            w,n=addwrong(i)\n",
    "            v2[w[0]]=v[i]\n",
    "            for i in range(len(n)):\n",
    "                v2[w[i+1]]=n[i]\n",
    "        elif 'GK Handling'in i:\n",
    "            n=Dkwrong(i)\n",
    "            v2['GK Handling']=v[i]\n",
    "            v2['GK Kicking']=n[0]\n",
    "            v2['GK Positioning']=n[1]\n",
    "        else:\n",
    "            v2[i]=v[i]\n",
    "    return v2\n"
   ]
  },
  {
   "cell_type": "code",
   "execution_count": null,
   "metadata": {},
   "outputs": [],
   "source": [
    "def main2Series(main,k):\n",
    "    main2={}\n",
    "    for i in main.keys():\n",
    "        v2= cleardict(main[i],k)\n",
    "        main2[i]=v2\n",
    "    names=[i for i in main2.keys()]\n",
    "    dic={}\n",
    "    dic['name']=names\n",
    "    for i in k:\n",
    "        dic[i]=[]\n",
    "    for i in names:\n",
    "        for j in k:\n",
    "            dic[j]+=[main2[i][j]]\n",
    "    return pd.DataFrame(dic)"
   ]
  }
 ],
 "metadata": {
  "kernelspec": {
   "display_name": "Python 3",
   "language": "python",
   "name": "python3"
  },
  "language_info": {
   "codemirror_mode": {
    "name": "ipython",
    "version": 3
   },
   "file_extension": ".py",
   "mimetype": "text/x-python",
   "name": "python",
   "nbconvert_exporter": "python",
   "pygments_lexer": "ipython3",
   "version": "3.7.0"
  }
 },
 "nbformat": 4,
 "nbformat_minor": 2
}
